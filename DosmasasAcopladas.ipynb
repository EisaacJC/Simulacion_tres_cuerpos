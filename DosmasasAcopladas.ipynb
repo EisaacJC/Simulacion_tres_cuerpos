{
  "nbformat": 4,
  "nbformat_minor": 0,
  "metadata": {
    "colab": {
      "name": "DosmasasAcopladas.ipynb",
      "provenance": [],
      "include_colab_link": true
    },
    "kernelspec": {
      "name": "python3",
      "display_name": "Python 3"
    }
  },
  "cells": [
    {
      "cell_type": "markdown",
      "metadata": {
        "id": "view-in-github",
        "colab_type": "text"
      },
      "source": [
        "<a href=\"https://colab.research.google.com/github/EisaacJC/Simulacion_tres_cuerpos/blob/master/DosmasasAcopladas.ipynb\" target=\"_parent\"><img src=\"https://colab.research.google.com/assets/colab-badge.svg\" alt=\"Open In Colab\"/></a>"
      ]
    },
    {
      "cell_type": "markdown",
      "metadata": {
        "id": "A0wOPaYsaekh",
        "colab_type": "text"
      },
      "source": [
        "##Problema de dos masas acopladas con resortes\n"
      ]
    },
    {
      "cell_type": "markdown",
      "metadata": {
        "id": "cdtIWDgOfoig",
        "colab_type": "text"
      },
      "source": [
        "\\begin{align}\n",
        "H&=\\frac{1}{2m}P_1^2+\\frac{1}{2m}P_2^2+\\frac{1}{2}k_1x_1^2+\\frac{1}{2}k_2(x_2-x_1)^2+\\frac{1}{2}k_3x_2^2\n",
        "\\end{align}"
      ]
    },
    {
      "cell_type": "markdown",
      "metadata": {
        "id": "6rpmBgAeapC6",
        "colab_type": "text"
      },
      "source": [
        "\\begin{align}\n",
        "\\dot{x_1}&=\\frac{\\partial H}{\\partial P_1}=\\frac{P_1}{m_1} \\\\\n",
        "\\dot{x_2}&=\\frac{\\partial H}{\\partial P_2}=\\frac{P_2}{m_1}  \\\\\n",
        "\\dot{p_{1x}}&=-[k_1x_1-k_2(x_2-x_1)] \\\\\n",
        "\\dot{p_{2x}}&=-[k_3x_2-k_2(x_2-x_1)]\n",
        "\\end{align} "
      ]
    },
    {
      "cell_type": "code",
      "metadata": {
        "id": "dijcbDjrdqGd",
        "colab_type": "code",
        "colab": {}
      },
      "source": [
        "import numpy as np "
      ],
      "execution_count": 0,
      "outputs": []
    },
    {
      "cell_type": "code",
      "metadata": {
        "id": "GTldt52_duBL",
        "colab_type": "code",
        "colab": {}
      },
      "source": [
        "k1 = 1.0\n",
        "k2 = 1.0\n",
        "k3 = 1.0\n",
        "m1 = 1.0 \n",
        "m2 = 1.0"
      ],
      "execution_count": 0,
      "outputs": []
    },
    {
      "cell_type": "code",
      "metadata": {
        "id": "W_Hkiww1d-Eh",
        "colab_type": "code",
        "colab": {}
      },
      "source": [
        "def Q_Dot(Q):\n",
        "  #regresa la derivada del vector Q\n",
        "  x1, x2, p1, p2 = Q[0], Q[1], Q[2], Q[3]\n",
        "  x1_dot = p1/m1\n",
        "  x2_dot = p2/m2\n",
        "  p1_dot = -(k1*x1-k2*(x2-x1))\n",
        "  p2_dot = -(k3*x2+k2*(x2-x1))\n",
        "  return np.array([x1_dot, x2_dot, p1_dot, p2_dot])"
      ],
      "execution_count": 0,
      "outputs": []
    },
    {
      "cell_type": "code",
      "metadata": {
        "id": "_Zpy1GvfcMQc",
        "colab_type": "code",
        "colab": {}
      },
      "source": [
        "def paso_euler(f, t_n, y_n, dt):\n",
        "  #toma un paso usando el metodo de Euler, y_n-valor actual del vector at tiempo t=t_n, f - funcion de calcula la derivada de y(t)\n",
        "  y_dot = f(t_n,y_n)\n",
        "  y_n_mas_1 = y_n + dt*y_dot\n",
        "  return y_n_mas_1"
      ],
      "execution_count": 0,
      "outputs": []
    },
    {
      "cell_type": "code",
      "metadata": {
        "id": "vcFgQz9_eVMR",
        "colab_type": "code",
        "colab": {}
      },
      "source": [
        "import time"
      ],
      "execution_count": 0,
      "outputs": []
    },
    {
      "cell_type": "code",
      "metadata": {
        "id": "y7aqjQGdhJRQ",
        "colab_type": "code",
        "colab": {}
      },
      "source": [
        "def integrador_simple(f, t, y_0, dt):\n",
        "  #Calcula la trayectoria de valores de y usando el metodo de Euler con pasos constantes\n",
        "  # f - función que calcula la derivada y(t), f(t,y)\n",
        "  # y_0 - valor inicial de y y_0 = [y0_0, y1_0,...]\n",
        "  #t - lista con el intervalo [t_0, t_f]\n",
        "  #dt - distancia entre pasos de tiempo\n",
        "  tiempo = time.time()\n",
        "\n",
        "  t_0, t_f = t\n",
        "  n = int((t_f - t_0)/dt)\n",
        "  \n",
        "  d = len(y_0)\n",
        "  \n",
        "  y_tray = np.zeros(((n+1), d))\n",
        "  \n",
        "  t = np.linspace(t_0, t_f, n+1)\n",
        "  \n",
        "  y_tray[0, :] = y_0\n",
        "  \n",
        "  for i in range(n):\n",
        "    y_tray[i+1, :] = paso_euler(f, t[i], y_tray[i, :], dt)\n",
        "  print('Constantes de resortes: k1 = ' + str(k1) + ' k2 = ' + str(k2) + ' k3 = ' + str(k3))\n",
        "  print('Masas: m1 = ' + str(m1) + ' m2 = ' + str(m2))\n",
        "  print('Tiempo de computo = ' + ('%.5f' %tiempo) + 's')\n",
        "  return t, y_tray"
      ],
      "execution_count": 0,
      "outputs": []
    },
    {
      "cell_type": "code",
      "metadata": {
        "id": "Jm0rX4Dbjpqr",
        "colab_type": "code",
        "colab": {}
      },
      "source": [
        "def Q_Dot_t(t,y):\n",
        "  return Q_Dot(y)"
      ],
      "execution_count": 0,
      "outputs": []
    },
    {
      "cell_type": "code",
      "metadata": {
        "id": "s8uMo_zgh44W",
        "colab_type": "code",
        "outputId": "6c6aaa76-15f8-49e7-ac4e-b02693f2a3ff",
        "colab": {
          "base_uri": "https://localhost:8080/",
          "height": 333
        }
      },
      "source": [
        "import matplotlib.pyplot as plt\n",
        "\n",
        "t, Q_Traj = integrador_simple(Q_Dot_t,[0,15],[-0.5,0.5,0,0],.001 )\n",
        "\n",
        "plt.plot(t,Q_Traj[:,0])\n",
        "plt.plot(t,Q_Traj[:,1])"
      ],
      "execution_count": 465,
      "outputs": [
        {
          "output_type": "stream",
          "text": [
            "Constantes de resortes: k1 = 1.0 k2 = 1.0 k3 = 1.0\n",
            "Masas: m1 = 1.0 m2 = 1.0\n",
            "Tiempo de computo = 1573879611.93793s\n"
          ],
          "name": "stdout"
        },
        {
          "output_type": "execute_result",
          "data": {
            "text/plain": [
              "[<matplotlib.lines.Line2D at 0x7f554862ed30>]"
            ]
          },
          "metadata": {
            "tags": []
          },
          "execution_count": 465
        },
        {
          "output_type": "display_data",
          "data": {
            "image/png": "[encoded data removed]",
            "text/plain": [
              "<Figure size 432x288 with 1 Axes>"
            ]
          },
          "metadata": {
            "tags": []
          }
        }
      ]
    },
    {
      "cell_type": "markdown",
      "metadata": {
        "id": "S4-WeGQllRg1",
        "colab_type": "text"
      },
      "source": [
        "#Valor del tiempo para diferentes condiciones iniciales y parámetros\n"
      ]
    },
    {
      "cell_type": "code",
      "metadata": {
        "id": "u9IoPOdKgUK2",
        "colab_type": "code",
        "outputId": "59885252-ae7f-42ba-f819-ef0da0647adf",
        "colab": {
          "base_uri": "https://localhost:8080/",
          "height": 68
        }
      },
      "source": [
        "#Distintos Parámetro\n",
        "k1 = 0.8\n",
        "k2 = 0.5\n",
        "k3 = 0.6\n",
        "m1 = 3.0 \n",
        "m2 = 2.0\n",
        "\n",
        "t, Q_Traj2 = integrador_simple(Q_Dot_t,[0,15],[-0.5,0.5,0,0],.001 )"
      ],
      "execution_count": 466,
      "outputs": [
        {
          "output_type": "stream",
          "text": [
            "Constantes de resortes: k1 = 0.8 k2 = 0.5 k3 = 0.6\n",
            "Masas: m1 = 3.0 m2 = 2.0\n",
            "Tiempo de computo = 1573879612.28769s\n"
          ],
          "name": "stdout"
        }
      ]
    },
    {
      "cell_type": "code",
      "metadata": {
        "id": "XQHjlpK8iIYk",
        "colab_type": "code",
        "outputId": "94637acc-1889-4e5e-ae46-1b4b3817ed79",
        "colab": {
          "base_uri": "https://localhost:8080/",
          "height": 68
        }
      },
      "source": [
        "#Distintas Condiciones Iniciales\n",
        "k1 = 1.0\n",
        "k2 = 1.0\n",
        "k3 = 1.0\n",
        "m1 = 1.0 \n",
        "m2 = 1.0\n",
        "\n",
        "t, Q_Traj3 = integrador_simple(Q_Dot_t,[0,15],[-0.8,1.5,0.6,0],.001 )"
      ],
      "execution_count": 467,
      "outputs": [
        {
          "output_type": "stream",
          "text": [
            "Constantes de resortes: k1 = 1.0 k2 = 1.0 k3 = 1.0\n",
            "Masas: m1 = 1.0 m2 = 1.0\n",
            "Tiempo de computo = 1573879612.42141s\n"
          ],
          "name": "stdout"
        }
      ]
    },
    {
      "cell_type": "code",
      "metadata": {
        "id": "I3zAI2Zniu4R",
        "colab_type": "code",
        "outputId": "55fa5c2c-2e83-4cfb-9509-16d5c7b65234",
        "colab": {
          "base_uri": "https://localhost:8080/",
          "height": 68
        }
      },
      "source": [
        "#Distintas Condiciones Iniciales Y Parámetros\n",
        "k1 = 1.0\n",
        "k2 = 0.9\n",
        "k3 = 0.2\n",
        "m1 = 3.0 \n",
        "m2 = 1.0\n",
        "\n",
        "t, Q_Traj4 = integrador_simple(Q_Dot_t,[0,15],[-0.8,0,0.6,1.3],.001 )"
      ],
      "execution_count": 468,
      "outputs": [
        {
          "output_type": "stream",
          "text": [
            "Constantes de resortes: k1 = 1.0 k2 = 0.9 k3 = 0.2\n",
            "Masas: m1 = 3.0 m2 = 1.0\n",
            "Tiempo de computo = 1573879612.57680s\n"
          ],
          "name": "stdout"
        }
      ]
    },
    {
      "cell_type": "code",
      "metadata": {
        "id": "rWGRySPHqtCD",
        "colab_type": "code",
        "outputId": "32fea289-bc81-435b-fcf4-fdbfcdfdd692",
        "colab": {
          "base_uri": "https://localhost:8080/",
          "height": 297
        }
      },
      "source": [
        "\n",
        "plt.subplot(311)\n",
        "plt.plot(t,Q_Traj2[:,0])\n",
        "plt.plot(t,Q_Traj2[:,1])\n",
        "plt.title('Distintos parámetros')\n",
        "plt.grid(True)\n",
        "\n",
        "plt.subplot(312)\n",
        "plt.plot(t,Q_Traj3[:,0])\n",
        "plt.plot(t,Q_Traj3[:,1])\n",
        "plt.title('Distintas condiciones iniciales')\n",
        "plt.grid(True)\n",
        "\n",
        "plt.subplot(313)\n",
        "plt.plot(t,Q_Traj4[:,0])\n",
        "plt.plot(t,Q_Traj4[:,1])\n",
        "plt.title('Distintas condiciones iniciales y parámetros')\n",
        "plt.grid(True)\n",
        "\n",
        "\n",
        "plt.tight_layout()\n",
        "plt.show()\n",
        "\n"
      ],
      "execution_count": 469,
      "outputs": [
        {
          "output_type": "display_data",
          "data": {
            "image/png": "[encoded data removed]",
            "text/plain": [
              "<Figure size 432x288 with 3 Axes>"
            ]
          },
          "metadata": {
            "tags": []
          }
        }
      ]
    },
    {
      "cell_type": "markdown",
      "metadata": {
        "id": "YJMlttdP3LRR",
        "colab_type": "text"
      },
      "source": [
        "#Cálculo de la energía en cada paso del tiempo"
      ]
    },
    {
      "cell_type": "markdown",
      "metadata": {
        "id": "3cylIU2h6W_V",
        "colab_type": "text"
      },
      "source": [
        "El Hamiltoniano para este caso corresponde a la energía, entonces \n",
        "\n",
        "\\begin{align}\n",
        "E&=H=T+V \\\\\n",
        "T&=\\frac{P_1}{m_1}+\\frac{P_2}{m_1}  \\\\\n",
        "V&=\\frac{1}{2}k_1x_1^2+\\frac{1}{2}k_2x_2^2+\\frac{1}{2}k_3x_3^2\n",
        "\\end{align}"
      ]
    },
    {
      "cell_type": "code",
      "metadata": {
        "id": "uvSzGAV4WYAh",
        "colab_type": "code",
        "colab": {}
      },
      "source": [
        "k1 = 1.0\n",
        "k2 = 1.0\n",
        "k3 = 1.0\n",
        "m1 = 1.0 \n",
        "m2 = 1.0"
      ],
      "execution_count": 0,
      "outputs": []
    },
    {
      "cell_type": "code",
      "metadata": {
        "id": "j8jkUFh69OI8",
        "colab_type": "code",
        "colab": {
          "base_uri": "https://localhost:8080/",
          "height": 282
        },
        "outputId": "a015fb44-2353-4905-e112-0301b5d367a8"
      },
      "source": [
        "E = np.zeros((Q_Traj.shape[0],1))\n",
        "E[:,0] = (1/2)*(Q_Traj[:,2]**2/m1 + Q_Traj[:,2]**2/m2 + k1*Q_Traj[:,0]**2 + k3*Q_Traj[:,1]**2 + k2*(Q_Traj1[:,1] - Q_Traj[:,0])**2)\n",
        "plt.plot(t,E[:,0])\n"
      ],
      "execution_count": 471,
      "outputs": [
        {
          "output_type": "execute_result",
          "data": {
            "text/plain": [
              "[<matplotlib.lines.Line2D at 0x7f5548d02470>]"
            ]
          },
          "metadata": {
            "tags": []
          },
          "execution_count": 471
        },
        {
          "output_type": "display_data",
          "data": {
            "image/png": "[encoded data removed]",
            "text/plain": [
              "<Figure size 432x288 with 1 Axes>"
            ]
          },
          "metadata": {
            "tags": []
          }
        }
      ]
    },
    {
      "cell_type": "markdown",
      "metadata": {
        "id": "xkRnppZNE62U",
        "colab_type": "text"
      },
      "source": [
        "#Problema de N masas acopladas\n",
        "\n",
        "Supongamos que tenemos una cadena de $N$ partículas de masa m, en línea, estando cada partícula atada a las dos partículas que la preceden y suceden por una fuerza de Hooke de constante $κ$. Supongamos que las partículas sólo pueden desplazarse en una dirección y al desplazamiento de la partícula $i$ a partir de la posición de equilibrio lo denominaremos $u_i$; además supondremos que los extremos están fijos lo cual modelizaremos estableciendo que los desplazamientos $u_0$ y $u_{N+1}$ son nulos para las partículas $0$ y ($N+1$).\n"
      ]
    },
    {
      "cell_type": "markdown",
      "metadata": {
        "id": "AdgmTGxyPEZh",
        "colab_type": "text"
      },
      "source": [
        "\\begin{align}\n",
        "H&=\\displaystyle\\sum_{i=1}^N \\frac{P_i^2}{2m} + \\displaystyle\\sum_{i=1}^N \\frac{k}{2}(u_{i+1} - u_i)^2 \\\\\n",
        "\\dot{x_2}&=\\frac{P_i}{m}  \\\\\n",
        "\\dot{p_{1x}}&=k(u_{i+1} -2u_i + u_{i-1}) \\\\\n",
        "\\end{align}"
      ]
    },
    {
      "cell_type": "code",
      "metadata": {
        "id": "A9JOolmPh3JB",
        "colab_type": "code",
        "colab": {}
      },
      "source": [
        "def W(f, t, y_0, dt):\n",
        "  #Calcula la trayectoria de valores de y usando el metodo de Euler con pasos constantes\n",
        "  # f - función que calcula la derivada y(t), f(t,y)\n",
        "  # y_0 - valor inicial de y y_0 = [y0_0, y1_0,...]\n",
        "  #t - lista con el intervalo [t_0, t_f]\n",
        "  #dt - distancia entre pasos de tiempo\n",
        "  tiempo = time.time()\n",
        "\n",
        "  t_0, t_f = t\n",
        "  n = int((t_f - t_0)/dt)\n",
        "  \n",
        "  d = len(y_0)\n",
        "  \n",
        "  y_tray = np.zeros(((n+1), d))\n",
        "  \n",
        "  t = np.linspace(t_0, t_f, n+1)\n",
        "  \n",
        "  y_tray[0, :] = y_0\n",
        "  \n",
        "  for i in range(n):\n",
        "    y_tray[i+1, :] = paso_euler(f, t[i], y_tray[i, :], dt)\n",
        "  print('Constantes de resortes: k1 = ' + str(k1) + ' k2 = ' + str(k2) + ' k3 = ' + str(k3))\n",
        "  print('Masas: m1 = ' + str(m1) + ' m2 = ' + str(m2))\n",
        "  print('Tiempo de computo = ' + ('%.5f' %tiempo) + 's')\n",
        "  return t, y_tray"
      ],
      "execution_count": 0,
      "outputs": []
    },
    {
      "cell_type": "code",
      "metadata": {
        "id": "XsmWw63Mh9qa",
        "colab_type": "code",
        "colab": {}
      },
      "source": [
        "def Q_Dot_t(t,y):\n",
        "  return Q_Dot(y)"
      ],
      "execution_count": 0,
      "outputs": []
    },
    {
      "cell_type": "code",
      "metadata": {
        "id": "28bqooXdZfi9",
        "colab_type": "code",
        "colab": {
          "base_uri": "https://localhost:8080/",
          "height": 136
        },
        "outputId": "e00047b7-c7c4-4de1-8ef1-5357ed752b87"
      },
      "source": [
        "m = 1.0\n",
        "k = 1.0\n",
        "\n",
        "n = int(input('numero de masas: '))\n",
        "#condiciones iniciales\n",
        "x = [] \n",
        "p = [] \n",
        "C = [] \n",
        "\n",
        "\n",
        "for t in range (1,int(n)+1):\n",
        "  x.append(float(input('Posición inicial de la masa '+str(t)+' :')))\n",
        "\n",
        "\n",
        "for T in range (1,int(n)+1):\n",
        "  p.append(float(input('Momento incial de la masa '+str(T)+' :')))\n",
        "\n",
        "C = np.asarray(x+p) \n",
        "\n",
        "def Q2_dot(f):\n",
        "  X = []\n",
        "  P = []\n",
        "  X_DOT = []\n",
        "  P_DOT = []\n",
        "  for i in range (int(n)):\n",
        "    X.append(float(f[i]))\n",
        "  for j in range (int(n),2*int(n)):\n",
        "    P.append(float(f[j]))\n",
        "  for l in range (int(n)):\n",
        "    X_DOT.append(float(P[l]/m))\n",
        "  for item in range (int(n)):\n",
        "    X.append(0) \n",
        "    P_DOT.append(k*(X[item+1]-2*X[item]+X[item-1]))\n",
        "    X.pop(n) \n",
        "  X_DOT.extend(P_DOT) \n",
        "  return np.asarray(X_DOT)\n",
        "  del X_DOT[:]"
      ],
      "execution_count": 474,
      "outputs": [
        {
          "output_type": "stream",
          "text": [
            "numero de masas: 3\n",
            "Posición inicial de la masa 1 :0.5\n",
            "Posición inicial de la masa 2 :-0.5\n",
            "Posición inicial de la masa 3 :1\n",
            "Momento incial de la masa 1 :0\n",
            "Momento incial de la masa 2 :0\n",
            "Momento incial de la masa 3 :0\n"
          ],
          "name": "stdout"
        }
      ]
    },
    {
      "cell_type": "code",
      "metadata": {
        "id": "44Pqo10gbTKV",
        "colab_type": "code",
        "colab": {
          "base_uri": "https://localhost:8080/",
          "height": 340
        },
        "outputId": "ee703100-4b3c-43d9-9ba5-038c4120070f"
      },
      "source": [
        "t, Q_Traj = W(Q_Dot_t,[0,15],C,0.0001)\n",
        "\n",
        "for i in range(n):\n",
        "  plt.plot(t,Q_Traj[:,i])"
      ],
      "execution_count": 475,
      "outputs": [
        {
          "output_type": "error",
          "ename": "ValueError",
          "evalue": "ignored",
          "traceback": [
            "\u001b[0;31m---------------------------------------------------------------------------\u001b[0m",
            "\u001b[0;31mValueError\u001b[0m                                Traceback (most recent call last)",
            "\u001b[0;32m<ipython-input-475-cc444137b5ff>\u001b[0m in \u001b[0;36m<module>\u001b[0;34m()\u001b[0m\n\u001b[0;32m----> 1\u001b[0;31m \u001b[0mt\u001b[0m\u001b[0;34m,\u001b[0m \u001b[0mQ_Traj\u001b[0m \u001b[0;34m=\u001b[0m \u001b[0mW\u001b[0m\u001b[0;34m(\u001b[0m\u001b[0mQ_Dot_t\u001b[0m\u001b[0;34m,\u001b[0m\u001b[0;34m[\u001b[0m\u001b[0;36m0\u001b[0m\u001b[0;34m,\u001b[0m\u001b[0;36m15\u001b[0m\u001b[0;34m]\u001b[0m\u001b[0;34m,\u001b[0m\u001b[0mC\u001b[0m\u001b[0;34m,\u001b[0m\u001b[0;36m0.0001\u001b[0m\u001b[0;34m)\u001b[0m\u001b[0;34m\u001b[0m\u001b[0;34m\u001b[0m\u001b[0m\n\u001b[0m\u001b[1;32m      2\u001b[0m \u001b[0;34m\u001b[0m\u001b[0m\n\u001b[1;32m      3\u001b[0m \u001b[0;32mfor\u001b[0m \u001b[0mi\u001b[0m \u001b[0;32min\u001b[0m \u001b[0mrange\u001b[0m\u001b[0;34m(\u001b[0m\u001b[0mn\u001b[0m\u001b[0;34m)\u001b[0m\u001b[0;34m:\u001b[0m\u001b[0;34m\u001b[0m\u001b[0;34m\u001b[0m\u001b[0m\n\u001b[1;32m      4\u001b[0m   \u001b[0mplt\u001b[0m\u001b[0;34m.\u001b[0m\u001b[0mplot\u001b[0m\u001b[0;34m(\u001b[0m\u001b[0mt\u001b[0m\u001b[0;34m,\u001b[0m\u001b[0mQ_Traj\u001b[0m\u001b[0;34m[\u001b[0m\u001b[0;34m:\u001b[0m\u001b[0;34m,\u001b[0m\u001b[0mi\u001b[0m\u001b[0;34m]\u001b[0m\u001b[0;34m)\u001b[0m\u001b[0;34m\u001b[0m\u001b[0;34m\u001b[0m\u001b[0m\n",
            "\u001b[0;32m<ipython-input-472-56d0d0dc0899>\u001b[0m in \u001b[0;36mW\u001b[0;34m(f, t, y_0, dt)\u001b[0m\n\u001b[1;32m     19\u001b[0m \u001b[0;34m\u001b[0m\u001b[0m\n\u001b[1;32m     20\u001b[0m   \u001b[0;32mfor\u001b[0m \u001b[0mi\u001b[0m \u001b[0;32min\u001b[0m \u001b[0mrange\u001b[0m\u001b[0;34m(\u001b[0m\u001b[0mn\u001b[0m\u001b[0;34m)\u001b[0m\u001b[0;34m:\u001b[0m\u001b[0;34m\u001b[0m\u001b[0;34m\u001b[0m\u001b[0m\n\u001b[0;32m---> 21\u001b[0;31m     \u001b[0my_tray\u001b[0m\u001b[0;34m[\u001b[0m\u001b[0mi\u001b[0m\u001b[0;34m+\u001b[0m\u001b[0;36m1\u001b[0m\u001b[0;34m,\u001b[0m \u001b[0;34m:\u001b[0m\u001b[0;34m]\u001b[0m \u001b[0;34m=\u001b[0m \u001b[0mpaso_euler\u001b[0m\u001b[0;34m(\u001b[0m\u001b[0mf\u001b[0m\u001b[0;34m,\u001b[0m \u001b[0mt\u001b[0m\u001b[0;34m[\u001b[0m\u001b[0mi\u001b[0m\u001b[0;34m]\u001b[0m\u001b[0;34m,\u001b[0m \u001b[0my_tray\u001b[0m\u001b[0;34m[\u001b[0m\u001b[0mi\u001b[0m\u001b[0;34m,\u001b[0m \u001b[0;34m:\u001b[0m\u001b[0;34m]\u001b[0m\u001b[0;34m,\u001b[0m \u001b[0mdt\u001b[0m\u001b[0;34m)\u001b[0m\u001b[0;34m\u001b[0m\u001b[0;34m\u001b[0m\u001b[0m\n\u001b[0m\u001b[1;32m     22\u001b[0m   \u001b[0mprint\u001b[0m\u001b[0;34m(\u001b[0m\u001b[0;34m'Constantes de resortes: k1 = '\u001b[0m \u001b[0;34m+\u001b[0m \u001b[0mstr\u001b[0m\u001b[0;34m(\u001b[0m\u001b[0mk1\u001b[0m\u001b[0;34m)\u001b[0m \u001b[0;34m+\u001b[0m \u001b[0;34m' k2 = '\u001b[0m \u001b[0;34m+\u001b[0m \u001b[0mstr\u001b[0m\u001b[0;34m(\u001b[0m\u001b[0mk2\u001b[0m\u001b[0;34m)\u001b[0m \u001b[0;34m+\u001b[0m \u001b[0;34m' k3 = '\u001b[0m \u001b[0;34m+\u001b[0m \u001b[0mstr\u001b[0m\u001b[0;34m(\u001b[0m\u001b[0mk3\u001b[0m\u001b[0;34m)\u001b[0m\u001b[0;34m)\u001b[0m\u001b[0;34m\u001b[0m\u001b[0;34m\u001b[0m\u001b[0m\n\u001b[1;32m     23\u001b[0m   \u001b[0mprint\u001b[0m\u001b[0;34m(\u001b[0m\u001b[0;34m'Masas: m1 = '\u001b[0m \u001b[0;34m+\u001b[0m \u001b[0mstr\u001b[0m\u001b[0;34m(\u001b[0m\u001b[0mm1\u001b[0m\u001b[0;34m)\u001b[0m \u001b[0;34m+\u001b[0m \u001b[0;34m' m2 = '\u001b[0m \u001b[0;34m+\u001b[0m \u001b[0mstr\u001b[0m\u001b[0;34m(\u001b[0m\u001b[0mm2\u001b[0m\u001b[0;34m)\u001b[0m\u001b[0;34m)\u001b[0m\u001b[0;34m\u001b[0m\u001b[0;34m\u001b[0m\u001b[0m\n",
            "\u001b[0;32m<ipython-input-461-3a96e313519d>\u001b[0m in \u001b[0;36mpaso_euler\u001b[0;34m(f, t_n, y_n, dt)\u001b[0m\n\u001b[1;32m      2\u001b[0m   \u001b[0;31m#toma un paso usando el metodo de Euler, y_n-valor actual del vector at tiempo t=t_n, f - funcion de calcula la derivada de y(t)\u001b[0m\u001b[0;34m\u001b[0m\u001b[0;34m\u001b[0m\u001b[0;34m\u001b[0m\u001b[0m\n\u001b[1;32m      3\u001b[0m   \u001b[0my_dot\u001b[0m \u001b[0;34m=\u001b[0m \u001b[0mf\u001b[0m\u001b[0;34m(\u001b[0m\u001b[0mt_n\u001b[0m\u001b[0;34m,\u001b[0m\u001b[0my_n\u001b[0m\u001b[0;34m)\u001b[0m\u001b[0;34m\u001b[0m\u001b[0;34m\u001b[0m\u001b[0m\n\u001b[0;32m----> 4\u001b[0;31m   \u001b[0my_n_mas_1\u001b[0m \u001b[0;34m=\u001b[0m \u001b[0my_n\u001b[0m \u001b[0;34m+\u001b[0m \u001b[0mdt\u001b[0m\u001b[0;34m*\u001b[0m\u001b[0my_dot\u001b[0m\u001b[0;34m\u001b[0m\u001b[0;34m\u001b[0m\u001b[0m\n\u001b[0m\u001b[1;32m      5\u001b[0m   \u001b[0;32mreturn\u001b[0m \u001b[0my_n_mas_1\u001b[0m\u001b[0;34m\u001b[0m\u001b[0;34m\u001b[0m\u001b[0m\n",
            "\u001b[0;31mValueError\u001b[0m: operands could not be broadcast together with shapes (6,) (4,) "
          ]
        }
      ]
    },
    {
      "cell_type": "code",
      "metadata": {
        "id": "svi8H-nDf8UI",
        "colab_type": "code",
        "colab": {}
      },
      "source": [
        ""
      ],
      "execution_count": 0,
      "outputs": []
    }
  ]
}